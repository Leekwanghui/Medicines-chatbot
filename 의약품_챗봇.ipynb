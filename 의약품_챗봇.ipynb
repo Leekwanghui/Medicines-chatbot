{
 "cells": [
  {
   "cell_type": "code",
   "execution_count": 1,
   "id": "d4572ff6",
   "metadata": {},
   "outputs": [],
   "source": [
    "import pytesseract\n",
    "import openai\n",
    "import re\n",
    "import numpy as np\n",
    "import os\n",
    "from PIL import Image\n",
    "from django.shortcuts import render\n",
    "from django.http import JsonResponse\n",
    "\n",
    "openai.api_key = os.getenv('#open ai 키입력') # open ai 키 입력"
   ]
  },
  {
   "cell_type": "code",
   "execution_count": null,
   "id": "e7d686be",
   "metadata": {},
   "outputs": [],
   "source": [
    "def Text_From_Image(image): # 이미지에서 텍스트 추출\n",
    "    try:\n",
    "        extracted_text = pytesseract.image_to_string(image)\n",
    "        return extracted_text.strip()\n",
    "    except Exception as e:\n",
    "        print(f\"Error extracting text from image: {e}\")\n",
    "        return None\n",
    "\n",
    "def Medication_Name(text): # 추출된 텍스트에서 약 이름 추출\n",
    "    match = re.search(r'\\b([A-Z][a-z]+)\\b', text)\n",
    "    if match:\n",
    "        return match.group(1)\n",
    "    else:\n",
    "        return None\n",
    "\n",
    "def Medication_Ask(medication_name): # chatgpt에 질문 전송하여 답변 받음\n",
    "    try:\n",
    "        question = f\"무슨 약이야 {medication_name}?\"\n",
    "        response = openai.Completion.create(\n",
    "            engine=\"text-davinci-003\",  # ChatGPT 3.5\n",
    "            prompt=question,\n",
    "            max_tokens=150\n",
    "        )\n",
    "        return response.choices[0].text.strip()\n",
    "    except Exception as e:\n",
    "        print(f\"Error asking GPT: {e}\")\n",
    "        return None\n",
    "\n",
    "def index(request):\n",
    "    return render(request, 'index.html')\n",
    "\n",
    "\n",
    "def Process_Image(request): # 이미지 처리 및 약 정보 추출\n",
    "    if request.method == 'POST' and request.FILES['image']: \n",
    "        image = request.FILES['image']\n",
    "        pil_img = Image.open(image)\n",
    "        \n",
    "        extracted_text = Text_From_Image(pil_img)  # 이미지에서 텍스트 추출\n",
    "\n",
    "        if extracted_text:\n",
    "            medication_name = Medication_Name(extracted_text)  # 추출된 텍스트에서 약 이름 추출\n",
    "\n",
    "            if medication_name:\n",
    "                answer = Medication_Ask(medication_name)  # 생성형 AI에 약 이름에 대한 질문 전송 및 답변\n",
    "                if answer:\n",
    "                    return JsonResponse({'medication_name': medication_name, 'answer': answer})\n",
    "                else:\n",
    "                    return JsonResponse({'error': 'Failed to get a response from ChatGPT'})\n",
    "            else:\n",
    "                return JsonResponse({'error': 'No medication name found in the text'})\n",
    "        else:\n",
    "            return JsonResponse({'error': 'Failed to extract text from the image'})\n",
    "\n",
    "    return JsonResponse({'error': 'Invalid request'})"
   ]
  }
 ],
 "metadata": {
  "kernelspec": {
   "display_name": "Python 3 (ipykernel)",
   "language": "python",
   "name": "python3"
  },
  "language_info": {
   "codemirror_mode": {
    "name": "ipython",
    "version": 3
   },
   "file_extension": ".py",
   "mimetype": "text/x-python",
   "name": "python",
   "nbconvert_exporter": "python",
   "pygments_lexer": "ipython3",
   "version": "3.11.5"
  }
 },
 "nbformat": 4,
 "nbformat_minor": 5
}
